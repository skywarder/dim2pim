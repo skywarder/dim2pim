{
 "cells": [
  {
   "cell_type": "code",
   "execution_count": 13,
   "metadata": {},
   "outputs": [
    {
     "name": "stderr",
     "output_type": "stream",
     "text": [
      "2019-03-21 02:29:58,754 - INFO - None\n",
      "2019-03-21 02:29:58,754 - INFO - None\n",
      "2019-03-21 02:29:58,754 - INFO - None\n",
      "2019-03-21 02:29:58,754 - INFO - None\n",
      "2019-03-21 02:29:58,754 - INFO - None\n",
      "2019-03-21 02:29:58,754 - INFO - None\n",
      "2019-03-21 02:29:58,754 - INFO - None\n",
      "2019-03-21 02:29:58,754 - INFO - None\n"
     ]
    },
    {
     "name": "stdout",
     "output_type": "stream",
     "text": [
      "{'identifier': '18177373', 'line': 1, 'status_code': 204}\n"
     ]
    }
   ],
   "source": [
    "from datetime import datetime\n",
    "from pprint import pprint\n",
    "\n",
    "from akeneo import AkeneoAPI\n",
    "\n",
    "akeneo = AkeneoAPI(\n",
    "    url=\"http://pim.brandmaker-russia.com/\",\n",
    "    client_id=\"1_18ikqygsu6jos4kog4g8o8o000kwwgcs0w04sw80cs08gw04kg\",\n",
    "    secret=\"2a6kqz5rscg0gcg0w40c8w0okwg08cwcwkc4ck8k0wg8wc0sk0\",\n",
    "    username=\"dim_machine\",\n",
    "    password=\"123@qwe\",\n",
    "    verbose=False\n",
    ")\n",
    "\n",
    "# SAVE INNER\n",
    "update_data = [{ \"identifier\": \"18177373\", \"values\": { \"inner_pack_qty\": [ { \"locale\": None, \"scope\": None, \"data\": 10 } ], \"gtin_inner_pack\": [ { \"locale\": None, \"scope\": None, \"data\": \"1\" } ], \"inner_pack_depth\": [ { \"locale\": None, \"scope\": None, \"data\": { \"amount\": \"1.0000\", \"unit\": \"CENTIMETER\" } } ], \"inner_pack_width\": [ { \"locale\": None, \"scope\": None, \"data\": { \"amount\": \"1.0000\", \"unit\": \"CENTIMETER\" } } ], \"inner_pack_height\": [ { \"locale\": None, \"scope\": None, \"data\": { \"amount\": \"1.0000\", \"unit\": \"CENTIMETER\" } } ], \"inner_pack_weight\": [ { \"locale\": None, \"scope\": None, \"data\": { \"amount\": \"1.0000\", \"unit\": \"KILOGRAM\" } } ] } }]\n",
    "update_product = akeneo.patch('products', update_data)\n",
    "akeneo.log.info(pprint(update_product))\n",
    "\n",
    "akeneo.close_session()"
   ]
  },
  {
   "cell_type": "code",
   "execution_count": null,
   "metadata": {},
   "outputs": [],
   "source": []
  },
  {
   "cell_type": "code",
   "execution_count": null,
   "metadata": {},
   "outputs": [],
   "source": []
  }
 ],
 "metadata": {
  "kernelspec": {
   "display_name": "Python 3",
   "language": "python",
   "name": "python3"
  },
  "language_info": {
   "codemirror_mode": {
    "name": "ipython",
    "version": 3
   },
   "file_extension": ".py",
   "mimetype": "text/x-python",
   "name": "python",
   "nbconvert_exporter": "python",
   "pygments_lexer": "ipython3",
   "version": "3.6.5"
  }
 },
 "nbformat": 4,
 "nbformat_minor": 2
}
